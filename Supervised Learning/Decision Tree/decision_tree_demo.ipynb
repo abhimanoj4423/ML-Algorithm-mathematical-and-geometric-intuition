{
  "nbformat": 4,
  "nbformat_minor": 0,
  "metadata": {
    "colab": {
      "provenance": []
    },
    "kernelspec": {
      "name": "python3",
      "display_name": "Python 3"
    },
    "language_info": {
      "name": "python"
    }
  },
  "cells": [
    {
      "cell_type": "markdown",
      "source": [
        "# Decision Tree\n",
        "Decision Trees (DTs) are a non-parametric supervised learning method used for classification and regression. The goal is to create a model that predicts the value of a target variable by learning simple decision rules inferred from the data features. Uses a tree-like model of decisions and their possible consequences, including chance event outcomes, resource costs, and utility. It is one way to display an algorithm that only contains conditional control statements.\n",
        "\n",
        "![download (2).png](data:image/png;base64,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)\n",
        "\n",
        "It is a flowchart-like structure in which each internal node represents a \"test\" on an attribute (e.g. whether a coin flip comes up heads or tails), each branch represents the outcome of the test, and each leaf node represents a class label (decision taken after computing all attributes). The paths from root to leaf represent classification rules.\n",
        "\n",
        "## Advantages of decision trees are:\n",
        "\n",
        "* Simple to understand and to interpret. Trees can be visualized.\n",
        "* Requires little data preparation.\n",
        "* The cost of using the tree is logarithmic in the number of data points used to train the tree.\n",
        "* Able to handle both numerical and categorical data. However\n",
        "* Able to handle multi-output problems.\n",
        "* Possible to validate a model using statistical tests.\n",
        "\n",
        "## Disadvantages of decision trees include:\n",
        "\n",
        "* Decision-tree learners can create over-complex trees that do not generalize the data well (overfitting).\n",
        "* Decision trees can be unstable because small variations in the data might result in a completely different tree being generated.\n",
        "* Predictions of decision trees are neither smooth nor continuous.\n",
        "* There are concepts that are hard to learn because decision trees do not express them easily, such as XOR, parity or multiplexer problems."
      ],
      "metadata": {
        "id": "OI2SbljCYEIT"
      }
    },
    {
      "cell_type": "code",
      "execution_count": 25,
      "metadata": {
        "id": "5s7aag-jWesP"
      },
      "outputs": [],
      "source": [
        "import pandas as pd\n",
        "import numpy as np\n",
        "\n",
        "from sklearn.tree import DecisionTreeRegressor\n",
        "from sklearn.model_selection import train_test_split\n",
        "from sklearn.model_selection import GridSearchCV\n",
        "from sklearn.metrics import mean_absolute_error,mean_squared_error,r2_score\n",
        "from sklearn.datasets import make_regression\n",
        "\n",
        "X,y = make_regression(n_samples=100, n_features=4, n_informative=4, n_targets=1, noise=50)"
      ]
    },
    {
      "cell_type": "code",
      "source": [
        "df = pd.DataFrame({'feature1':X[:,0],'feature2':X[:,1],'feature3':X[:,2],'feature4':X[:,3],'target':y})\n",
        "df.head()"
      ],
      "metadata": {
        "colab": {
          "base_uri": "https://localhost:8080/",
          "height": 206
        },
        "id": "zsdn6FHXYDJl",
        "outputId": "a01e1136-9b59-43a0-c56b-cb7b4481ed9b"
      },
      "execution_count": 26,
      "outputs": [
        {
          "output_type": "execute_result",
          "data": {
            "text/plain": [
              "   feature1  feature2  feature3  feature4      target\n",
              "0 -0.043357 -2.184769  0.489502  1.288936  101.092268\n",
              "1 -1.797566 -0.476042 -2.193144 -0.496250 -378.144720\n",
              "2  0.358246 -0.947135  0.220966  0.405005   77.514192\n",
              "3 -0.122188 -1.044009 -1.584565  0.196716   -3.131972\n",
              "4 -0.774959 -0.130550  0.110061  0.640549   -2.641993"
            ],
            "text/html": [
              "\n",
              "  <div id=\"df-d8bf502a-bc5a-4553-b6ad-128c4294c2d9\" class=\"colab-df-container\">\n",
              "    <div>\n",
              "<style scoped>\n",
              "    .dataframe tbody tr th:only-of-type {\n",
              "        vertical-align: middle;\n",
              "    }\n",
              "\n",
              "    .dataframe tbody tr th {\n",
              "        vertical-align: top;\n",
              "    }\n",
              "\n",
              "    .dataframe thead th {\n",
              "        text-align: right;\n",
              "    }\n",
              "</style>\n",
              "<table border=\"1\" class=\"dataframe\">\n",
              "  <thead>\n",
              "    <tr style=\"text-align: right;\">\n",
              "      <th></th>\n",
              "      <th>feature1</th>\n",
              "      <th>feature2</th>\n",
              "      <th>feature3</th>\n",
              "      <th>feature4</th>\n",
              "      <th>target</th>\n",
              "    </tr>\n",
              "  </thead>\n",
              "  <tbody>\n",
              "    <tr>\n",
              "      <th>0</th>\n",
              "      <td>-0.043357</td>\n",
              "      <td>-2.184769</td>\n",
              "      <td>0.489502</td>\n",
              "      <td>1.288936</td>\n",
              "      <td>101.092268</td>\n",
              "    </tr>\n",
              "    <tr>\n",
              "      <th>1</th>\n",
              "      <td>-1.797566</td>\n",
              "      <td>-0.476042</td>\n",
              "      <td>-2.193144</td>\n",
              "      <td>-0.496250</td>\n",
              "      <td>-378.144720</td>\n",
              "    </tr>\n",
              "    <tr>\n",
              "      <th>2</th>\n",
              "      <td>0.358246</td>\n",
              "      <td>-0.947135</td>\n",
              "      <td>0.220966</td>\n",
              "      <td>0.405005</td>\n",
              "      <td>77.514192</td>\n",
              "    </tr>\n",
              "    <tr>\n",
              "      <th>3</th>\n",
              "      <td>-0.122188</td>\n",
              "      <td>-1.044009</td>\n",
              "      <td>-1.584565</td>\n",
              "      <td>0.196716</td>\n",
              "      <td>-3.131972</td>\n",
              "    </tr>\n",
              "    <tr>\n",
              "      <th>4</th>\n",
              "      <td>-0.774959</td>\n",
              "      <td>-0.130550</td>\n",
              "      <td>0.110061</td>\n",
              "      <td>0.640549</td>\n",
              "      <td>-2.641993</td>\n",
              "    </tr>\n",
              "  </tbody>\n",
              "</table>\n",
              "</div>\n",
              "    <div class=\"colab-df-buttons\">\n",
              "\n",
              "  <div class=\"colab-df-container\">\n",
              "    <button class=\"colab-df-convert\" onclick=\"convertToInteractive('df-d8bf502a-bc5a-4553-b6ad-128c4294c2d9')\"\n",
              "            title=\"Convert this dataframe to an interactive table.\"\n",
              "            style=\"display:none;\">\n",
              "\n",
              "  <svg xmlns=\"http://www.w3.org/2000/svg\" height=\"24px\" viewBox=\"0 -960 960 960\">\n",
              "    <path d=\"M120-120v-720h720v720H120Zm60-500h600v-160H180v160Zm220 220h160v-160H400v160Zm0 220h160v-160H400v160ZM180-400h160v-160H180v160Zm440 0h160v-160H620v160ZM180-180h160v-160H180v160Zm440 0h160v-160H620v160Z\"/>\n",
              "  </svg>\n",
              "    </button>\n",
              "\n",
              "  <style>\n",
              "    .colab-df-container {\n",
              "      display:flex;\n",
              "      gap: 12px;\n",
              "    }\n",
              "\n",
              "    .colab-df-convert {\n",
              "      background-color: #E8F0FE;\n",
              "      border: none;\n",
              "      border-radius: 50%;\n",
              "      cursor: pointer;\n",
              "      display: none;\n",
              "      fill: #1967D2;\n",
              "      height: 32px;\n",
              "      padding: 0 0 0 0;\n",
              "      width: 32px;\n",
              "    }\n",
              "\n",
              "    .colab-df-convert:hover {\n",
              "      background-color: #E2EBFA;\n",
              "      box-shadow: 0px 1px 2px rgba(60, 64, 67, 0.3), 0px 1px 3px 1px rgba(60, 64, 67, 0.15);\n",
              "      fill: #174EA6;\n",
              "    }\n",
              "\n",
              "    .colab-df-buttons div {\n",
              "      margin-bottom: 4px;\n",
              "    }\n",
              "\n",
              "    [theme=dark] .colab-df-convert {\n",
              "      background-color: #3B4455;\n",
              "      fill: #D2E3FC;\n",
              "    }\n",
              "\n",
              "    [theme=dark] .colab-df-convert:hover {\n",
              "      background-color: #434B5C;\n",
              "      box-shadow: 0px 1px 3px 1px rgba(0, 0, 0, 0.15);\n",
              "      filter: drop-shadow(0px 1px 2px rgba(0, 0, 0, 0.3));\n",
              "      fill: #FFFFFF;\n",
              "    }\n",
              "  </style>\n",
              "\n",
              "    <script>\n",
              "      const buttonEl =\n",
              "        document.querySelector('#df-d8bf502a-bc5a-4553-b6ad-128c4294c2d9 button.colab-df-convert');\n",
              "      buttonEl.style.display =\n",
              "        google.colab.kernel.accessAllowed ? 'block' : 'none';\n",
              "\n",
              "      async function convertToInteractive(key) {\n",
              "        const element = document.querySelector('#df-d8bf502a-bc5a-4553-b6ad-128c4294c2d9');\n",
              "        const dataTable =\n",
              "          await google.colab.kernel.invokeFunction('convertToInteractive',\n",
              "                                                    [key], {});\n",
              "        if (!dataTable) return;\n",
              "\n",
              "        const docLinkHtml = 'Like what you see? Visit the ' +\n",
              "          '<a target=\"_blank\" href=https://colab.research.google.com/notebooks/data_table.ipynb>data table notebook</a>'\n",
              "          + ' to learn more about interactive tables.';\n",
              "        element.innerHTML = '';\n",
              "        dataTable['output_type'] = 'display_data';\n",
              "        await google.colab.output.renderOutput(dataTable, element);\n",
              "        const docLink = document.createElement('div');\n",
              "        docLink.innerHTML = docLinkHtml;\n",
              "        element.appendChild(docLink);\n",
              "      }\n",
              "    </script>\n",
              "  </div>\n",
              "\n",
              "\n",
              "<div id=\"df-e942351a-91a4-435a-b468-111efaf92265\">\n",
              "  <button class=\"colab-df-quickchart\" onclick=\"quickchart('df-e942351a-91a4-435a-b468-111efaf92265')\"\n",
              "            title=\"Suggest charts\"\n",
              "            style=\"display:none;\">\n",
              "\n",
              "<svg xmlns=\"http://www.w3.org/2000/svg\" height=\"24px\"viewBox=\"0 0 24 24\"\n",
              "     width=\"24px\">\n",
              "    <g>\n",
              "        <path d=\"M19 3H5c-1.1 0-2 .9-2 2v14c0 1.1.9 2 2 2h14c1.1 0 2-.9 2-2V5c0-1.1-.9-2-2-2zM9 17H7v-7h2v7zm4 0h-2V7h2v10zm4 0h-2v-4h2v4z\"/>\n",
              "    </g>\n",
              "</svg>\n",
              "  </button>\n",
              "\n",
              "<style>\n",
              "  .colab-df-quickchart {\n",
              "      --bg-color: #E8F0FE;\n",
              "      --fill-color: #1967D2;\n",
              "      --hover-bg-color: #E2EBFA;\n",
              "      --hover-fill-color: #174EA6;\n",
              "      --disabled-fill-color: #AAA;\n",
              "      --disabled-bg-color: #DDD;\n",
              "  }\n",
              "\n",
              "  [theme=dark] .colab-df-quickchart {\n",
              "      --bg-color: #3B4455;\n",
              "      --fill-color: #D2E3FC;\n",
              "      --hover-bg-color: #434B5C;\n",
              "      --hover-fill-color: #FFFFFF;\n",
              "      --disabled-bg-color: #3B4455;\n",
              "      --disabled-fill-color: #666;\n",
              "  }\n",
              "\n",
              "  .colab-df-quickchart {\n",
              "    background-color: var(--bg-color);\n",
              "    border: none;\n",
              "    border-radius: 50%;\n",
              "    cursor: pointer;\n",
              "    display: none;\n",
              "    fill: var(--fill-color);\n",
              "    height: 32px;\n",
              "    padding: 0;\n",
              "    width: 32px;\n",
              "  }\n",
              "\n",
              "  .colab-df-quickchart:hover {\n",
              "    background-color: var(--hover-bg-color);\n",
              "    box-shadow: 0 1px 2px rgba(60, 64, 67, 0.3), 0 1px 3px 1px rgba(60, 64, 67, 0.15);\n",
              "    fill: var(--button-hover-fill-color);\n",
              "  }\n",
              "\n",
              "  .colab-df-quickchart-complete:disabled,\n",
              "  .colab-df-quickchart-complete:disabled:hover {\n",
              "    background-color: var(--disabled-bg-color);\n",
              "    fill: var(--disabled-fill-color);\n",
              "    box-shadow: none;\n",
              "  }\n",
              "\n",
              "  .colab-df-spinner {\n",
              "    border: 2px solid var(--fill-color);\n",
              "    border-color: transparent;\n",
              "    border-bottom-color: var(--fill-color);\n",
              "    animation:\n",
              "      spin 1s steps(1) infinite;\n",
              "  }\n",
              "\n",
              "  @keyframes spin {\n",
              "    0% {\n",
              "      border-color: transparent;\n",
              "      border-bottom-color: var(--fill-color);\n",
              "      border-left-color: var(--fill-color);\n",
              "    }\n",
              "    20% {\n",
              "      border-color: transparent;\n",
              "      border-left-color: var(--fill-color);\n",
              "      border-top-color: var(--fill-color);\n",
              "    }\n",
              "    30% {\n",
              "      border-color: transparent;\n",
              "      border-left-color: var(--fill-color);\n",
              "      border-top-color: var(--fill-color);\n",
              "      border-right-color: var(--fill-color);\n",
              "    }\n",
              "    40% {\n",
              "      border-color: transparent;\n",
              "      border-right-color: var(--fill-color);\n",
              "      border-top-color: var(--fill-color);\n",
              "    }\n",
              "    60% {\n",
              "      border-color: transparent;\n",
              "      border-right-color: var(--fill-color);\n",
              "    }\n",
              "    80% {\n",
              "      border-color: transparent;\n",
              "      border-right-color: var(--fill-color);\n",
              "      border-bottom-color: var(--fill-color);\n",
              "    }\n",
              "    90% {\n",
              "      border-color: transparent;\n",
              "      border-bottom-color: var(--fill-color);\n",
              "    }\n",
              "  }\n",
              "</style>\n",
              "\n",
              "  <script>\n",
              "    async function quickchart(key) {\n",
              "      const quickchartButtonEl =\n",
              "        document.querySelector('#' + key + ' button');\n",
              "      quickchartButtonEl.disabled = true;  // To prevent multiple clicks.\n",
              "      quickchartButtonEl.classList.add('colab-df-spinner');\n",
              "      try {\n",
              "        const charts = await google.colab.kernel.invokeFunction(\n",
              "            'suggestCharts', [key], {});\n",
              "      } catch (error) {\n",
              "        console.error('Error during call to suggestCharts:', error);\n",
              "      }\n",
              "      quickchartButtonEl.classList.remove('colab-df-spinner');\n",
              "      quickchartButtonEl.classList.add('colab-df-quickchart-complete');\n",
              "    }\n",
              "    (() => {\n",
              "      let quickchartButtonEl =\n",
              "        document.querySelector('#df-e942351a-91a4-435a-b468-111efaf92265 button');\n",
              "      quickchartButtonEl.style.display =\n",
              "        google.colab.kernel.accessAllowed ? 'block' : 'none';\n",
              "    })();\n",
              "  </script>\n",
              "</div>\n",
              "\n",
              "    </div>\n",
              "  </div>\n"
            ],
            "application/vnd.google.colaboratory.intrinsic+json": {
              "type": "dataframe",
              "variable_name": "df",
              "summary": "{\n  \"name\": \"df\",\n  \"rows\": 100,\n  \"fields\": [\n    {\n      \"column\": \"feature1\",\n      \"properties\": {\n        \"dtype\": \"number\",\n        \"std\": 1.0463785636072835,\n        \"min\": -2.9847835618089795,\n        \"max\": 2.7513728142788754,\n        \"num_unique_values\": 100,\n        \"samples\": [\n          1.3496511306506689,\n          0.19064374625785882,\n          0.36608377539468073\n        ],\n        \"semantic_type\": \"\",\n        \"description\": \"\"\n      }\n    },\n    {\n      \"column\": \"feature2\",\n      \"properties\": {\n        \"dtype\": \"number\",\n        \"std\": 0.8496962718124301,\n        \"min\": -2.184768736289847,\n        \"max\": 2.00224054728493,\n        \"num_unique_values\": 100,\n        \"samples\": [\n          0.04290943153127896,\n          0.13859014454590918,\n          -1.2423781162280756\n        ],\n        \"semantic_type\": \"\",\n        \"description\": \"\"\n      }\n    },\n    {\n      \"column\": \"feature3\",\n      \"properties\": {\n        \"dtype\": \"number\",\n        \"std\": 1.1067833355365877,\n        \"min\": -4.242225723713542,\n        \"max\": 2.0891355520020203,\n        \"num_unique_values\": 100,\n        \"samples\": [\n          0.2830892967941773,\n          -1.5337099020279081,\n          -1.0702636547525477\n        ],\n        \"semantic_type\": \"\",\n        \"description\": \"\"\n      }\n    },\n    {\n      \"column\": \"feature4\",\n      \"properties\": {\n        \"dtype\": \"number\",\n        \"std\": 0.9217242477606572,\n        \"min\": -1.765668401140924,\n        \"max\": 2.8363630529363304,\n        \"num_unique_values\": 100,\n        \"samples\": [\n          -0.3586359670339986,\n          0.16181727760552153,\n          0.07866770640559899\n        ],\n        \"semantic_type\": \"\",\n        \"description\": \"\"\n      }\n    },\n    {\n      \"column\": \"target\",\n      \"properties\": {\n        \"dtype\": \"number\",\n        \"std\": 131.52814577340513,\n        \"min\": -380.256484564246,\n        \"max\": 273.69290989362173,\n        \"num_unique_values\": 100,\n        \"samples\": [\n          46.09755993375987,\n          -125.81580037662712,\n          11.1511542792406\n        ],\n        \"semantic_type\": \"\",\n        \"description\": \"\"\n      }\n    }\n  ]\n}"
            }
          },
          "metadata": {},
          "execution_count": 26
        }
      ]
    },
    {
      "cell_type": "code",
      "source": [
        "X_train,X_test,y_train,y_test = train_test_split(X,y,test_size=0.3,random_state=42)"
      ],
      "metadata": {
        "id": "uwjMfLDmc1I7"
      },
      "execution_count": 28,
      "outputs": []
    },
    {
      "cell_type": "code",
      "source": [
        "rt = DecisionTreeRegressor(criterion = 'squared_error', max_depth = 5)\n",
        "rt.fit(X_train,y_train)"
      ],
      "metadata": {
        "colab": {
          "base_uri": "https://localhost:8080/",
          "height": 75
        },
        "id": "9Je1MBI6dWIH",
        "outputId": "3efb8e41-19fb-472f-f027-92e2842a7651"
      },
      "execution_count": 29,
      "outputs": [
        {
          "output_type": "execute_result",
          "data": {
            "text/plain": [
              "DecisionTreeRegressor(max_depth=5)"
            ],
            "text/html": [
              "<style>#sk-container-id-5 {color: black;background-color: white;}#sk-container-id-5 pre{padding: 0;}#sk-container-id-5 div.sk-toggleable {background-color: white;}#sk-container-id-5 label.sk-toggleable__label {cursor: pointer;display: block;width: 100%;margin-bottom: 0;padding: 0.3em;box-sizing: border-box;text-align: center;}#sk-container-id-5 label.sk-toggleable__label-arrow:before {content: \"▸\";float: left;margin-right: 0.25em;color: #696969;}#sk-container-id-5 label.sk-toggleable__label-arrow:hover:before {color: black;}#sk-container-id-5 div.sk-estimator:hover label.sk-toggleable__label-arrow:before {color: black;}#sk-container-id-5 div.sk-toggleable__content {max-height: 0;max-width: 0;overflow: hidden;text-align: left;background-color: #f0f8ff;}#sk-container-id-5 div.sk-toggleable__content pre {margin: 0.2em;color: black;border-radius: 0.25em;background-color: #f0f8ff;}#sk-container-id-5 input.sk-toggleable__control:checked~div.sk-toggleable__content {max-height: 200px;max-width: 100%;overflow: auto;}#sk-container-id-5 input.sk-toggleable__control:checked~label.sk-toggleable__label-arrow:before {content: \"▾\";}#sk-container-id-5 div.sk-estimator input.sk-toggleable__control:checked~label.sk-toggleable__label {background-color: #d4ebff;}#sk-container-id-5 div.sk-label input.sk-toggleable__control:checked~label.sk-toggleable__label {background-color: #d4ebff;}#sk-container-id-5 input.sk-hidden--visually {border: 0;clip: rect(1px 1px 1px 1px);clip: rect(1px, 1px, 1px, 1px);height: 1px;margin: -1px;overflow: hidden;padding: 0;position: absolute;width: 1px;}#sk-container-id-5 div.sk-estimator {font-family: monospace;background-color: #f0f8ff;border: 1px dotted black;border-radius: 0.25em;box-sizing: border-box;margin-bottom: 0.5em;}#sk-container-id-5 div.sk-estimator:hover {background-color: #d4ebff;}#sk-container-id-5 div.sk-parallel-item::after {content: \"\";width: 100%;border-bottom: 1px solid gray;flex-grow: 1;}#sk-container-id-5 div.sk-label:hover label.sk-toggleable__label {background-color: #d4ebff;}#sk-container-id-5 div.sk-serial::before {content: \"\";position: absolute;border-left: 1px solid gray;box-sizing: border-box;top: 0;bottom: 0;left: 50%;z-index: 0;}#sk-container-id-5 div.sk-serial {display: flex;flex-direction: column;align-items: center;background-color: white;padding-right: 0.2em;padding-left: 0.2em;position: relative;}#sk-container-id-5 div.sk-item {position: relative;z-index: 1;}#sk-container-id-5 div.sk-parallel {display: flex;align-items: stretch;justify-content: center;background-color: white;position: relative;}#sk-container-id-5 div.sk-item::before, #sk-container-id-5 div.sk-parallel-item::before {content: \"\";position: absolute;border-left: 1px solid gray;box-sizing: border-box;top: 0;bottom: 0;left: 50%;z-index: -1;}#sk-container-id-5 div.sk-parallel-item {display: flex;flex-direction: column;z-index: 1;position: relative;background-color: white;}#sk-container-id-5 div.sk-parallel-item:first-child::after {align-self: flex-end;width: 50%;}#sk-container-id-5 div.sk-parallel-item:last-child::after {align-self: flex-start;width: 50%;}#sk-container-id-5 div.sk-parallel-item:only-child::after {width: 0;}#sk-container-id-5 div.sk-dashed-wrapped {border: 1px dashed gray;margin: 0 0.4em 0.5em 0.4em;box-sizing: border-box;padding-bottom: 0.4em;background-color: white;}#sk-container-id-5 div.sk-label label {font-family: monospace;font-weight: bold;display: inline-block;line-height: 1.2em;}#sk-container-id-5 div.sk-label-container {text-align: center;}#sk-container-id-5 div.sk-container {/* jupyter's `normalize.less` sets `[hidden] { display: none; }` but bootstrap.min.css set `[hidden] { display: none !important; }` so we also need the `!important` here to be able to override the default hidden behavior on the sphinx rendered scikit-learn.org. See: https://github.com/scikit-learn/scikit-learn/issues/21755 */display: inline-block !important;position: relative;}#sk-container-id-5 div.sk-text-repr-fallback {display: none;}</style><div id=\"sk-container-id-5\" class=\"sk-top-container\"><div class=\"sk-text-repr-fallback\"><pre>DecisionTreeRegressor(max_depth=5)</pre><b>In a Jupyter environment, please rerun this cell to show the HTML representation or trust the notebook. <br />On GitHub, the HTML representation is unable to render, please try loading this page with nbviewer.org.</b></div><div class=\"sk-container\" hidden><div class=\"sk-item\"><div class=\"sk-estimator sk-toggleable\"><input class=\"sk-toggleable__control sk-hidden--visually\" id=\"sk-estimator-id-9\" type=\"checkbox\" checked><label for=\"sk-estimator-id-9\" class=\"sk-toggleable__label sk-toggleable__label-arrow\">DecisionTreeRegressor</label><div class=\"sk-toggleable__content\"><pre>DecisionTreeRegressor(max_depth=5)</pre></div></div></div></div></div>"
            ]
          },
          "metadata": {},
          "execution_count": 29
        }
      ]
    },
    {
      "cell_type": "code",
      "source": [
        "y_pred = rt.predict(X_test)"
      ],
      "metadata": {
        "id": "9i5le2axdk35"
      },
      "execution_count": 30,
      "outputs": []
    },
    {
      "cell_type": "code",
      "source": [
        "print(\"MAE\",mean_absolute_error(y_test,y_pred))\n",
        "print(\"MSE\",mean_squared_error(y_test,y_pred))\n",
        "print(\"R2 score\",r2_score(y_test,y_pred))"
      ],
      "metadata": {
        "colab": {
          "base_uri": "https://localhost:8080/"
        },
        "id": "tFtXBMGKd9OI",
        "outputId": "aacd057f-df0e-4117-b372-9e63331912a0"
      },
      "execution_count": 31,
      "outputs": [
        {
          "output_type": "stream",
          "name": "stdout",
          "text": [
            "MAE 61.50892482564227\n",
            "MSE 5866.316287499614\n",
            "R2 score 0.5211859006278297\n"
          ]
        }
      ]
    },
    {
      "cell_type": "markdown",
      "source": [
        "# Hyperparameter Tuning"
      ],
      "metadata": {
        "id": "wNq1gPwEeU-M"
      }
    },
    {
      "cell_type": "code",
      "source": [
        "param_grid = {\n",
        "    'max_depth': [2,4,6,8,None],\n",
        "    'criterion': ['squared_error', 'absolute_error'],\n",
        "    'max_features': [1,2,3,4],\n",
        "    'min_samples_split':[0.25,0.5,1.0]\n",
        "}"
      ],
      "metadata": {
        "id": "hdU9y-uheOso"
      },
      "execution_count": 32,
      "outputs": []
    },
    {
      "cell_type": "code",
      "source": [
        "reg = GridSearchCV(DecisionTreeRegressor(),param_grid=param_grid)\n",
        "reg.fit(X_train,y_train)"
      ],
      "metadata": {
        "colab": {
          "base_uri": "https://localhost:8080/",
          "height": 118
        },
        "id": "WcWkuTJyiH6Y",
        "outputId": "7f6b8a42-3cd5-4124-8133-fe7577cd4dff"
      },
      "execution_count": 35,
      "outputs": [
        {
          "output_type": "execute_result",
          "data": {
            "text/plain": [
              "GridSearchCV(estimator=DecisionTreeRegressor(),\n",
              "             param_grid={'criterion': ['squared_error', 'absolute_error'],\n",
              "                         'max_depth': [2, 4, 6, 8, None],\n",
              "                         'max_features': [1, 2, 3, 4],\n",
              "                         'min_samples_split': [0.25, 0.5, 1.0]})"
            ],
            "text/html": [
              "<style>#sk-container-id-7 {color: black;background-color: white;}#sk-container-id-7 pre{padding: 0;}#sk-container-id-7 div.sk-toggleable {background-color: white;}#sk-container-id-7 label.sk-toggleable__label {cursor: pointer;display: block;width: 100%;margin-bottom: 0;padding: 0.3em;box-sizing: border-box;text-align: center;}#sk-container-id-7 label.sk-toggleable__label-arrow:before {content: \"▸\";float: left;margin-right: 0.25em;color: #696969;}#sk-container-id-7 label.sk-toggleable__label-arrow:hover:before {color: black;}#sk-container-id-7 div.sk-estimator:hover label.sk-toggleable__label-arrow:before {color: black;}#sk-container-id-7 div.sk-toggleable__content {max-height: 0;max-width: 0;overflow: hidden;text-align: left;background-color: #f0f8ff;}#sk-container-id-7 div.sk-toggleable__content pre {margin: 0.2em;color: black;border-radius: 0.25em;background-color: #f0f8ff;}#sk-container-id-7 input.sk-toggleable__control:checked~div.sk-toggleable__content {max-height: 200px;max-width: 100%;overflow: auto;}#sk-container-id-7 input.sk-toggleable__control:checked~label.sk-toggleable__label-arrow:before {content: \"▾\";}#sk-container-id-7 div.sk-estimator input.sk-toggleable__control:checked~label.sk-toggleable__label {background-color: #d4ebff;}#sk-container-id-7 div.sk-label input.sk-toggleable__control:checked~label.sk-toggleable__label {background-color: #d4ebff;}#sk-container-id-7 input.sk-hidden--visually {border: 0;clip: rect(1px 1px 1px 1px);clip: rect(1px, 1px, 1px, 1px);height: 1px;margin: -1px;overflow: hidden;padding: 0;position: absolute;width: 1px;}#sk-container-id-7 div.sk-estimator {font-family: monospace;background-color: #f0f8ff;border: 1px dotted black;border-radius: 0.25em;box-sizing: border-box;margin-bottom: 0.5em;}#sk-container-id-7 div.sk-estimator:hover {background-color: #d4ebff;}#sk-container-id-7 div.sk-parallel-item::after {content: \"\";width: 100%;border-bottom: 1px solid gray;flex-grow: 1;}#sk-container-id-7 div.sk-label:hover label.sk-toggleable__label {background-color: #d4ebff;}#sk-container-id-7 div.sk-serial::before {content: \"\";position: absolute;border-left: 1px solid gray;box-sizing: border-box;top: 0;bottom: 0;left: 50%;z-index: 0;}#sk-container-id-7 div.sk-serial {display: flex;flex-direction: column;align-items: center;background-color: white;padding-right: 0.2em;padding-left: 0.2em;position: relative;}#sk-container-id-7 div.sk-item {position: relative;z-index: 1;}#sk-container-id-7 div.sk-parallel {display: flex;align-items: stretch;justify-content: center;background-color: white;position: relative;}#sk-container-id-7 div.sk-item::before, #sk-container-id-7 div.sk-parallel-item::before {content: \"\";position: absolute;border-left: 1px solid gray;box-sizing: border-box;top: 0;bottom: 0;left: 50%;z-index: -1;}#sk-container-id-7 div.sk-parallel-item {display: flex;flex-direction: column;z-index: 1;position: relative;background-color: white;}#sk-container-id-7 div.sk-parallel-item:first-child::after {align-self: flex-end;width: 50%;}#sk-container-id-7 div.sk-parallel-item:last-child::after {align-self: flex-start;width: 50%;}#sk-container-id-7 div.sk-parallel-item:only-child::after {width: 0;}#sk-container-id-7 div.sk-dashed-wrapped {border: 1px dashed gray;margin: 0 0.4em 0.5em 0.4em;box-sizing: border-box;padding-bottom: 0.4em;background-color: white;}#sk-container-id-7 div.sk-label label {font-family: monospace;font-weight: bold;display: inline-block;line-height: 1.2em;}#sk-container-id-7 div.sk-label-container {text-align: center;}#sk-container-id-7 div.sk-container {/* jupyter's `normalize.less` sets `[hidden] { display: none; }` but bootstrap.min.css set `[hidden] { display: none !important; }` so we also need the `!important` here to be able to override the default hidden behavior on the sphinx rendered scikit-learn.org. See: https://github.com/scikit-learn/scikit-learn/issues/21755 */display: inline-block !important;position: relative;}#sk-container-id-7 div.sk-text-repr-fallback {display: none;}</style><div id=\"sk-container-id-7\" class=\"sk-top-container\"><div class=\"sk-text-repr-fallback\"><pre>GridSearchCV(estimator=DecisionTreeRegressor(),\n",
              "             param_grid={&#x27;criterion&#x27;: [&#x27;squared_error&#x27;, &#x27;absolute_error&#x27;],\n",
              "                         &#x27;max_depth&#x27;: [2, 4, 6, 8, None],\n",
              "                         &#x27;max_features&#x27;: [1, 2, 3, 4],\n",
              "                         &#x27;min_samples_split&#x27;: [0.25, 0.5, 1.0]})</pre><b>In a Jupyter environment, please rerun this cell to show the HTML representation or trust the notebook. <br />On GitHub, the HTML representation is unable to render, please try loading this page with nbviewer.org.</b></div><div class=\"sk-container\" hidden><div class=\"sk-item sk-dashed-wrapped\"><div class=\"sk-label-container\"><div class=\"sk-label sk-toggleable\"><input class=\"sk-toggleable__control sk-hidden--visually\" id=\"sk-estimator-id-13\" type=\"checkbox\" ><label for=\"sk-estimator-id-13\" class=\"sk-toggleable__label sk-toggleable__label-arrow\">GridSearchCV</label><div class=\"sk-toggleable__content\"><pre>GridSearchCV(estimator=DecisionTreeRegressor(),\n",
              "             param_grid={&#x27;criterion&#x27;: [&#x27;squared_error&#x27;, &#x27;absolute_error&#x27;],\n",
              "                         &#x27;max_depth&#x27;: [2, 4, 6, 8, None],\n",
              "                         &#x27;max_features&#x27;: [1, 2, 3, 4],\n",
              "                         &#x27;min_samples_split&#x27;: [0.25, 0.5, 1.0]})</pre></div></div></div><div class=\"sk-parallel\"><div class=\"sk-parallel-item\"><div class=\"sk-item\"><div class=\"sk-label-container\"><div class=\"sk-label sk-toggleable\"><input class=\"sk-toggleable__control sk-hidden--visually\" id=\"sk-estimator-id-14\" type=\"checkbox\" ><label for=\"sk-estimator-id-14\" class=\"sk-toggleable__label sk-toggleable__label-arrow\">estimator: DecisionTreeRegressor</label><div class=\"sk-toggleable__content\"><pre>DecisionTreeRegressor()</pre></div></div></div><div class=\"sk-serial\"><div class=\"sk-item\"><div class=\"sk-estimator sk-toggleable\"><input class=\"sk-toggleable__control sk-hidden--visually\" id=\"sk-estimator-id-15\" type=\"checkbox\" ><label for=\"sk-estimator-id-15\" class=\"sk-toggleable__label sk-toggleable__label-arrow\">DecisionTreeRegressor</label><div class=\"sk-toggleable__content\"><pre>DecisionTreeRegressor()</pre></div></div></div></div></div></div></div></div></div></div>"
            ]
          },
          "metadata": {},
          "execution_count": 35
        }
      ]
    },
    {
      "cell_type": "code",
      "source": [
        "reg.best_score_"
      ],
      "metadata": {
        "colab": {
          "base_uri": "https://localhost:8080/"
        },
        "id": "jer0BJHxiZdy",
        "outputId": "d35bd0d2-2f4a-4012-d92d-9b18e1b117ed"
      },
      "execution_count": 36,
      "outputs": [
        {
          "output_type": "execute_result",
          "data": {
            "text/plain": [
              "0.5682034847478585"
            ]
          },
          "metadata": {},
          "execution_count": 36
        }
      ]
    },
    {
      "cell_type": "code",
      "source": [
        "reg.best_params_"
      ],
      "metadata": {
        "colab": {
          "base_uri": "https://localhost:8080/"
        },
        "id": "8yoCSAUPinti",
        "outputId": "b96fbaaf-ba96-43e3-df4a-440b8d59867a"
      },
      "execution_count": 37,
      "outputs": [
        {
          "output_type": "execute_result",
          "data": {
            "text/plain": [
              "{'criterion': 'absolute_error',\n",
              " 'max_depth': None,\n",
              " 'max_features': 3,\n",
              " 'min_samples_split': 0.25}"
            ]
          },
          "metadata": {},
          "execution_count": 37
        }
      ]
    },
    {
      "cell_type": "markdown",
      "source": [
        "# Feature Importance"
      ],
      "metadata": {
        "id": "736cUcQojP_E"
      }
    },
    {
      "cell_type": "code",
      "source": [
        "rt.feature_importances_"
      ],
      "metadata": {
        "colab": {
          "base_uri": "https://localhost:8080/"
        },
        "id": "yiWc1CtwjD9U",
        "outputId": "3b48e26f-4063-40f2-a1f6-ad9a32d1d2ec"
      },
      "execution_count": 38,
      "outputs": [
        {
          "output_type": "execute_result",
          "data": {
            "text/plain": [
              "array([0.54237035, 0.03384627, 0.10819627, 0.31558711])"
            ]
          },
          "metadata": {},
          "execution_count": 38
        }
      ]
    },
    {
      "cell_type": "code",
      "source": [],
      "metadata": {
        "id": "-qXPQ3tejNcW"
      },
      "execution_count": null,
      "outputs": []
    }
  ]
}